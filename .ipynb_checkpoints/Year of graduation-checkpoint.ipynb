{
 "cells": [
  {
   "cell_type": "code",
   "execution_count": null,
   "id": "273801d9",
   "metadata": {},
   "outputs": [],
   "source": [
    "import pandas as pd"
   ]
  },
  {
   "cell_type": "code",
   "execution_count": null,
   "id": "1786efa3",
   "metadata": {},
   "outputs": [],
   "source": [
    "data=pd.read_excel(\"Final Lead Data.xlsx\")"
   ]
  },
  {
   "cell_type": "code",
   "execution_count": null,
   "id": "38939f92",
   "metadata": {},
   "outputs": [],
   "source": [
    "data.columns"
   ]
  },
  {
   "cell_type": "code",
   "execution_count": null,
   "id": "ed2dfc79",
   "metadata": {},
   "outputs": [],
   "source": [
    "cols = ['Academic Year', 'Email']\n",
    "data = data[cols]"
   ]
  },
  {
   "cell_type": "code",
   "execution_count": null,
   "id": "19a55ab1",
   "metadata": {},
   "outputs": [],
   "source": [
    "data.dropna(subset=['Academic Year'], inplace=True)"
   ]
  },
  {
   "cell_type": "code",
   "execution_count": null,
   "id": "65aa5ce3",
   "metadata": {},
   "outputs": [],
   "source": [
    "data.drop_duplicates(['Email'],inplace=True)"
   ]
  },
  {
   "cell_type": "code",
   "execution_count": null,
   "id": "6a394c74",
   "metadata": {},
   "outputs": [],
   "source": [
    "data['Academic Year'].value_counts()"
   ]
  },
  {
   "cell_type": "code",
   "execution_count": null,
   "id": "7c21861b",
   "metadata": {},
   "outputs": [],
   "source": [
    "course_duration = 4\n",
    "\n",
    "data['Remaining Years'] = course_duration - data['Academic Year']\n",
    "\n",
    "current_year = pd.Timestamp.now().year\n",
    "data['Year_of_Graduation '] = current_year + data['Remaining Years']+1"
   ]
  },
  {
   "cell_type": "code",
   "execution_count": null,
   "id": "ee5fde98",
   "metadata": {},
   "outputs": [],
   "source": [
    "data['Year_of_Graduation'].to_excel('Year_of_Graduation_calculated.xlsx', index=False)\n"
   ]
  },
  {
   "cell_type": "code",
   "execution_count": null,
   "id": "628498ee",
   "metadata": {},
   "outputs": [],
   "source": []
  }
 ],
 "metadata": {
  "kernelspec": {
   "display_name": "Python 3 (ipykernel)",
   "language": "python",
   "name": "python3"
  },
  "language_info": {
   "codemirror_mode": {
    "name": "ipython",
    "version": 3
   },
   "file_extension": ".py",
   "mimetype": "text/x-python",
   "name": "python",
   "nbconvert_exporter": "python",
   "pygments_lexer": "ipython3",
   "version": "3.10.12"
  }
 },
 "nbformat": 4,
 "nbformat_minor": 5
}
