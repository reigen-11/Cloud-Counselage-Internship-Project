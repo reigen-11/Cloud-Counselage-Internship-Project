{
 "cells": [
  {
   "cell_type": "code",
   "execution_count": null,
   "id": "92bcb5ac",
   "metadata": {},
   "outputs": [],
   "source": [
    "import pandas as pd\n",
    "import numpy as np\n",
    "from sklearn.metrics import accuracy_score, precision_score, recall_score, f1_score, confusion_matrix, classification_report\n",
    "from xgboost import XGBClassifier\n",
    "import seaborn as sns\n",
    "import matplotlib.pyplot as plt\n",
    "import re\n",
    "from sklearn.model_selection import train_test_split\n",
    "from tqdm import tqdm\n",
    "import optuna"
   ]
  },
  {
   "cell_type": "code",
   "execution_count": null,
   "id": "fc3257e0",
   "metadata": {},
   "outputs": [],
   "source": [
    "pd.set_option('display.max_columns', 100)\n",
    "pd.set_option('display.max_rows', 5000)\n",
    "\n",
    "plt.style.use('fivethirtyeight')\n",
    "\n",
    "df = pd.read_excel('train_data.xlsx')\n",
    "test_df = pd.read_excel('test_data.xlsx')\n",
    "\n",
    "columns = ['Email ID', 'Ticket Type', 'CGPA',\n",
    "           'Speaking Skills','ML Knowledge', 'Placement Status']\n",
    "\n",
    "train_df = df[columns]\n",
    "test_df = test_df[columns]\n",
    "\n",
    "col_rename_mapper = {\n",
    "    'Email ID': 'email', 'Ticket Type' : 'ticket_type',\n",
    "    'CGPA':'cgpa','Speaking Skills':'speaking_skills',\n",
    "    'ML Knowledge':'ml_knowledge', 'Placement Status':'placement_status'\n",
    "}\n",
    "\n",
    "train_df = train_df.rename(col_rename_mapper, axis=1)\n",
    "test_df = test_df.rename(col_rename_mapper, axis=1)\n",
    "\n",
    "train_df.placement_status.fillna('uncertain', inplace=True)"
   ]
  },
  {
   "cell_type": "code",
   "execution_count": null,
   "id": "62d34fcf",
   "metadata": {},
   "outputs": [],
   "source": [
    "def clean_and_format_text(text):\n",
    "    \n",
    "    text = text.lower()\n",
    "    \n",
    "    text = text.replace('.', '')\n",
    "    text = text.replace(',', '')\n",
    "    text = text.replace('-', '')\n",
    "    text = text.replace('[', '')\n",
    "    text = text.replace(']', '')\n",
    "    text = text.replace('&', '_')\n",
    "    text = text.replace('?', '')\n",
    "    text = text.replace(' ', '_')\n",
    "    text = text.replace(':', '')\n",
    "    text = text.replace('__', '_')\n",
    "    text = text.strip('_')\n",
    "\n",
    "    return text\n",
    "\n",
    "train_df.ticket_type = train_df.ticket_type.apply(clean_and_format_text)\n",
    "test_df.ticket_type = test_df.ticket_type.apply(clean_and_format_text)\n",
    "\n",
    "from sklearn.preprocessing import LabelEncoder, OneHotEncoder\n",
    "from category_encoders import OrdinalEncoder\n",
    "\n",
    "label_encoder_1 = LabelEncoder()\n",
    "label_encoder_2 = OrdinalEncoder()\n",
    "\n",
    "\n",
    "\n",
    "train_df.email = label_encoder_2.fit_transform(train_df.email)\n",
    "test_df.email = label_encoder_2.transform(test_df.email) \n",
    "\n",
    "\n",
    "train_df.placement_status = label_encoder_1.fit_transform(train_df.placement_status)\n",
    "\n",
    "train_dummies = pd.get_dummies(train_df.ticket_type)\n",
    "test_dummies = pd.get_dummies(test_df.ticket_type)\n",
    "\n",
    "train_df = pd.concat([train_df, train_dummies], axis=1)\n",
    "test_df = pd.concat([test_df, test_dummies], axis=1)\n",
    "\n",
    "train_df.drop('ticket_type', axis=1, inplace=True)\n",
    "test_df.drop('ticket_type', axis=1, inplace=True)\n",
    "\n",
    "new_column1 = np.zeros(len(test_df))\n",
    "new_column2 = np.zeros(len(test_df))\n",
    "\n",
    "test_df.insert(5, 'art_of_resume_building', new_column1)\n",
    "test_df.insert(6, 'artificial_intelligence', new_column2)\n",
    "\n",
    "\n"
   ]
  },
  {
   "cell_type": "code",
   "execution_count": null,
   "id": "77eccdce",
   "metadata": {},
   "outputs": [],
   "source": [
    "target = 'placement_status'\n",
    "\n",
    "X, y = train_df.drop(['placement_status'], axis=1), train_df.placement_status"
   ]
  },
  {
   "cell_type": "code",
   "execution_count": null,
   "id": "61749f82",
   "metadata": {},
   "outputs": [],
   "source": [
    "X_train, X_test, y_train, y_test = train_test_split(X, y, test_size=0.2, random_state=42)"
   ]
  },
  {
   "cell_type": "code",
   "execution_count": null,
   "id": "b20762de",
   "metadata": {},
   "outputs": [],
   "source": [
    "params = {'max_depth': 74, 'subsample': 0.690961899344375, 'colsample_bytree': 0.26307203741471596, \n",
    "          'colsample_bylevel': 0.6323577392545147, 'min_child_weight': 7, 'reg_lambda': 0.12420600128963495, \n",
    "          'reg_alpha': 0.041915238518139705, 'n_estimators': 635, 'learning_rate': 0.036533167160145506}\n",
    "\n",
    "xgb = XGBClassifier(**params)\n",
    "\n",
    "xgb.fit(X_train, y_train)"
   ]
  },
  {
   "cell_type": "code",
   "execution_count": null,
   "id": "7eef45f8",
   "metadata": {},
   "outputs": [],
   "source": [
    "def evaluate_classifier(X_train, X_test, y_train, y_test, model):\n",
    "    \n",
    "    y_pred = model.predict(X_test)\n",
    "    \n",
    "    accuracy = accuracy_score(y_test, y_pred)\n",
    "    precision = precision_score(y_test, y_pred, average='weighted', zero_division=0)\n",
    "    recall = recall_score(y_test, y_pred, average='weighted', zero_division=0)\n",
    "    f1 = f1_score(y_test, y_pred, average='weighted', zero_division=0)\n",
    "    \n",
    "    return accuracy, precision, recall, f1\n",
    "\n",
    "accuracy, precision, recall, f1 = evaluate_classifier(X_train, X_test, y_train, y_test, xgb)\n",
    "\n",
    "print(f\"{'Metric':<15}{'Value':<10}\")\n",
    "print('-' * 25)\n",
    "print(f\"{'Accuracy':<15}{accuracy:<10.4f}\")\n",
    "print(f\"{'Precision':<15}{precision:<10.4f}\")\n",
    "print(f\"{'Recall':<15}{recall:<10.4f}\")\n",
    "print(f\"{'F1 Score':<15}{f1:<10.4f}\")"
   ]
  },
  {
   "cell_type": "code",
   "execution_count": null,
   "id": "e478bd3d",
   "metadata": {},
   "outputs": [],
   "source": [
    "# def objective(trial):\n",
    "#     params = {\n",
    "#         'max_depth': trial.suggest_int('max_depth', 5, 500),\n",
    "#         'subsample': trial.suggest_float('subsample', 0.1, 1),\n",
    "#         'colsample_bytree': trial.suggest_float('colsample_bytree', 0.01, 1.0),\n",
    "#         'colsample_bylevel': trial.suggest_float('colsample_bylevel', 0.01, 1.0),\n",
    "#         'min_child_weight': trial.suggest_int('min_child_weight', 0.5, 30),\n",
    "#         'reg_lambda': trial.suggest_float('reg_lambda', 0.01, 1.0, log=True),\n",
    "#         'reg_alpha': trial.suggest_float('reg_alpha', 0.01, 1.0, log=True),\n",
    "#         'n_estimators': trial.suggest_int('n_estimators', 100, 1000),\n",
    "#         'learning_rate': trial.suggest_float('learning_rate', 0.01, 0.1),\n",
    "#     }\n",
    "\n",
    "#     model = XGBClassifier(**params)\n",
    "    \n",
    "#     model.fit(X_train, y_train)\n",
    "    \n",
    "#     test_scores = model.score(X_test, y_test.ravel())\n",
    "    \n",
    "#     return test_scores\n",
    "\n",
    "# progress_bar = tqdm(total=100, desc='Optimizing Hyperparameters', dynamic_ncols=True)\n",
    "\n",
    "# def callback(study, trial):\n",
    "#     progress_bar.n = len(study.trials)\n",
    "#     progress_bar.update(1)\n",
    "\n",
    "# study = optuna.create_study(direction='maximize')\n",
    "# study.optimize(objective, n_trials=100, callbacks=[callback])\n",
    "\n",
    "# progress_bar.close()\n",
    "\n",
    "# best_params = study.best_params\n",
    "# best_score = study.best_value\n",
    "\n",
    "# print(\"Best Hyperparameters for XGBClassifier:\")\n",
    "# print(best_params)\n",
    "# print(\"Best R2 Score: {:.3f}\".format(best_score))"
   ]
  },
  {
   "cell_type": "code",
   "execution_count": null,
   "id": "7199d3a5",
   "metadata": {},
   "outputs": [],
   "source": [
    "independent_vars, target = test_df.drop(['placement_status'], axis=1), test_df.placement_status"
   ]
  },
  {
   "cell_type": "code",
   "execution_count": null,
   "id": "d13aed1c",
   "metadata": {},
   "outputs": [],
   "source": [
    "test_df.placement_status = xgb.predict(test_df.drop(['placement_status'], axis=1))"
   ]
  },
  {
   "cell_type": "code",
   "execution_count": null,
   "id": "d4813b32",
   "metadata": {},
   "outputs": [],
   "source": [
    "test_df.placement_status.value_counts()"
   ]
  },
  {
   "cell_type": "code",
   "execution_count": null,
   "id": "2ed161b7",
   "metadata": {},
   "outputs": [],
   "source": [
    "test_df.placement_status.to_excel('predicted_test_data.xlsx', index=False)"
   ]
  },
  {
   "cell_type": "code",
   "execution_count": null,
   "id": "77ff400e",
   "metadata": {},
   "outputs": [],
   "source": []
  }
 ],
 "metadata": {
  "kernelspec": {
   "display_name": "Python 3 (ipykernel)",
   "language": "python",
   "name": "python3"
  },
  "language_info": {
   "codemirror_mode": {
    "name": "ipython",
    "version": 3
   },
   "file_extension": ".py",
   "mimetype": "text/x-python",
   "name": "python",
   "nbconvert_exporter": "python",
   "pygments_lexer": "ipython3",
   "version": "3.10.12"
  }
 },
 "nbformat": 4,
 "nbformat_minor": 5
}
